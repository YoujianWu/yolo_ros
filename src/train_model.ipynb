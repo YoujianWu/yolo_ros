{
 "cells": [
  {
   "cell_type": "code",
   "execution_count": null,
   "metadata": {},
   "outputs": [],
   "source": [
    "from ultralytics import YOLO\n",
    "\n",
    "# 如果找不到data_sets的路径，要修改ultralytics的配置文件\n",
    "# vim /home/kook/.config/Ultralytics/settings.json \n",
    "# 训练时间较久，建议睡觉训练\n",
    "\n",
    "# 加载预训练模型\n",
    "yolo = YOLO('../lib/ultralytics/yolov8s.pt')\n",
    "\n",
    "# 训练模型\n",
    "yolo.train(\n",
    "    data='data_sets/data.yaml',  # 数据集配置文件路径\n",
    "    epochs=100,         # 训练轮数\n",
    "    imgsz=640,         # 输入图像大小\n",
    "    batch=4,          # 一批训练多少张图片\n",
    "    name='tarffic_light_model'  # 训练结果保存的模型名称\n",
    ")"
   ]
  }
 ],
 "metadata": {
  "kernelspec": {
   "display_name": "my_jupyter",
   "language": "python",
   "name": "python3"
  },
  "language_info": {
   "codemirror_mode": {
    "name": "ipython",
    "version": 3
   },
   "file_extension": ".py",
   "mimetype": "text/x-python",
   "name": "python",
   "nbconvert_exporter": "python",
   "pygments_lexer": "ipython3",
   "version": "3.9.18"
  }
 },
 "nbformat": 4,
 "nbformat_minor": 2
}
